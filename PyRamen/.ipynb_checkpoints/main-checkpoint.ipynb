{
 "cells": [
  {
   "cell_type": "code",
   "execution_count": 17,
   "id": "4b97e79b-5064-4921-a6c6-117e288ad5b6",
   "metadata": {},
   "outputs": [],
   "source": [
    "import os"
   ]
  },
  {
   "cell_type": "code",
   "execution_count": 18,
   "id": "99a3ce39-56b3-4594-bf46-8aa3a28bc5bb",
   "metadata": {},
   "outputs": [],
   "source": [
    "import csv"
   ]
  },
  {
   "cell_type": "code",
   "execution_count": 19,
   "id": "b4d176af-54dd-475c-9cf0-06017ad60217",
   "metadata": {},
   "outputs": [],
   "source": [
    "from pathlib import Path"
   ]
  },
  {
   "cell_type": "code",
   "execution_count": 20,
   "id": "352a2f90-dcb8-415d-adc3-372c7ecdf612",
   "metadata": {},
   "outputs": [],
   "source": [
    "menu_filepath = r\"C:\\Users\\Aarthi Manoharan\\Arun\\python-homework\\python-homework\\PyRamen\\menu_data.csv\""
   ]
  },
  {
   "cell_type": "code",
   "execution_count": 21,
   "id": "e0f6e5d5-8137-4d57-85ed-d2d9c9a3d836",
   "metadata": {},
   "outputs": [],
   "source": [
    "sales_filepath =r\"C:\\Users\\Aarthi Manoharan\\Arun\\python-homework\\python-homework\\PyRamen\\sales_data.csv\""
   ]
  },
  {
   "cell_type": "code",
   "execution_count": 22,
   "id": "3bdc2e6e-cc76-461d-83c6-647ae83bc06a",
   "metadata": {},
   "outputs": [],
   "source": [
    "#Initialize an empty list object to hold the contents\n",
    "header = []\n",
    "menu_data = {}\n",
    "sales_data = []\n",
    "report = {}"
   ]
  },
  {
   "cell_type": "code",
   "execution_count": 24,
   "id": "a290e087-25ee-416d-8963-f6d915597fe3",
   "metadata": {},
   "outputs": [],
   "source": [
    "#Use a with statement and open the menu_data.csv by using its file path\n",
    "with open(menu_filepath, 'r') as csvfile:\n",
    "    #Use the reader function from the csv library to begin reading menu_data.csv\n",
    "    csvreader = csv.reader(csvfile, delimiter=',')\n",
    "    #Use the next function to skip the header (first row of the CSV).\n",
    "    header = next(csvreader)\n",
    "    for row in csvreader:\n",
    "        menu_data[row[0]] = [row[1], row[2], row[3], row[4]]    "
   ]
  },
  {
   "cell_type": "code",
   "execution_count": 25,
   "id": "2eead8a6-7667-4da4-ad01-080a0c43d75a",
   "metadata": {},
   "outputs": [],
   "source": [
    "#Use a with statement and open the sales_data.csv by using its file path\n",
    "with open(sales_filepath, 'r') as csvfile:\n",
    "    #Use the reader function from the csv library to begin reading sales_data.csv\n",
    "    csvreader = csv.reader(csvfile, delimiter=',')\n",
    "    #Use the next function to skip the header (first row of the CSV).\n",
    "    header = next(csvreader)\n",
    "    for row in csvreader:\n",
    "        sales_data.append([row[0], row[1], row[2], row[3], row[4]])"
   ]
  },
  {
   "cell_type": "code",
   "execution_count": 26,
   "id": "d282b336-4d35-43ef-848d-8d53c48197e6",
   "metadata": {},
   "outputs": [
    {
     "name": "stdout",
     "output_type": "stream",
     "text": [
      "spicy miso ramen : {'01-count': 9238, '02-revenue': 110856.0, '03-cogs': 46190.0, '04-profit': 118538.0}\n",
      "tori paitan ramen : {'01-count': 9156, '02-revenue': 119028.0, '03-cogs': 54936.0, '04-profit': 113988.0}\n",
      "truffle butter ramen : {'01-count': 8982, '02-revenue': 125748.0, '03-cogs': 62874.0, '04-profit': 111510.0}\n",
      "tonkotsu ramen : {'01-count': 9288, '02-revenue': 120744.0, '03-cogs': 55728.0, '04-profit': 119728.0}\n",
      "vegetarian spicy miso : {'01-count': 9216, '02-revenue': 110592.0, '03-cogs': 46080.0, '04-profit': 117460.0}\n",
      "shio ramen : {'01-count': 9180, '02-revenue': 100980.0, '03-cogs': 45900.0, '04-profit': 100824.0}\n",
      "miso crab ramen : {'01-count': 8890, '02-revenue': 106680.0, '03-cogs': 53340.0, '04-profit': 97260.0}\n",
      "nagomi shoyu : {'01-count': 9132, '02-revenue': 100452.0, '03-cogs': 45660.0, '04-profit': 102216.0}\n",
      "soft-shell miso crab ramen : {'01-count': 9130, '02-revenue': 127820.0, '03-cogs': 63910.0, '04-profit': 116158.0}\n",
      "burnt garlic tonkotsu ramen : {'01-count': 9070, '02-revenue': 126980.0, '03-cogs': 54420.0, '04-profit': 129840.0}\n",
      "vegetarian curry + king trumpet mushroom ramen : {'01-count': 8824, '02-revenue': 114712.0, '03-cogs': 61768.0, '04-profit': 92808.0}\n"
     ]
    }
   ],
   "source": [
    "#Loop over the rest of the rows and append every row to the menu list object (the outcome will be a list of lists).\n",
    "for sale in sales_data:\n",
    "    \n",
    "    quantity = int(sale[3])\n",
    "    sales_item = sale[4]\n",
    "#Initialise an empty report dictionary\n",
    "    if report.get(sales_item)==None:\n",
    "        report[sales_item] = {\"01-count\": 0, \n",
    "                              \"02-revenue\": 0, \n",
    "                              \"03-cogs\": 0, \n",
    "                              \"04-profit\": 0}\n",
    "    \n",
    "# Get the menu_data details for the sale_item\n",
    "    menu = menu_data[sales_item]\n",
    "    if menu!=None:\n",
    "        price = float(menu[2])\n",
    "        cost = float(menu[3])\n",
    "        profit = quantity * (price - cost) \n",
    "        report[sales_item][\"01-count\"] += quantity\n",
    "        report[sales_item][\"02-revenue\"] += price * quantity\n",
    "        report[sales_item][\"03-cogs\"] += cost * quantity\n",
    "        report[sales_item][\"04-profit\"] += profit * quantity\n",
    "    else:\n",
    "        print(f'{sales_item} does not contains data')\n",
    "\n",
    "# Output report\n",
    "for sales_item in report:\n",
    "    print(f'{sales_item} : {report[sales_item]}')"
   ]
  },
  {
   "cell_type": "code",
   "execution_count": 27,
   "id": "6dbab765-9dd1-45be-9cea-949c5d170b13",
   "metadata": {},
   "outputs": [],
   "source": [
    "# output file with metrics\n",
    "output_path = Path(\"PyRamen.txt\")"
   ]
  },
  {
   "cell_type": "code",
   "execution_count": 28,
   "id": "a1cb4d7c-d73c-429e-b2a4-0a6a59d5dc86",
   "metadata": {},
   "outputs": [],
   "source": [
    "with open(output_path, 'w') as file:\n",
    "    file.write(\"This is the financial report for PyRamen.\\n\")\n",
    "    for key in report:\n",
    "        file.write(f\"{key} {report[key]} \\n\")"
   ]
  },
  {
   "cell_type": "code",
   "execution_count": null,
   "id": "ba0d9845-fa39-4c76-99a5-c5b89694b791",
   "metadata": {},
   "outputs": [],
   "source": []
  }
 ],
 "metadata": {
  "kernelspec": {
   "display_name": "Python 3 (ipykernel)",
   "language": "python",
   "name": "python3"
  },
  "language_info": {
   "codemirror_mode": {
    "name": "ipython",
    "version": 3
   },
   "file_extension": ".py",
   "mimetype": "text/x-python",
   "name": "python",
   "nbconvert_exporter": "python",
   "pygments_lexer": "ipython3",
   "version": "3.9.13"
  }
 },
 "nbformat": 4,
 "nbformat_minor": 5
}
