{
 "cells": [
  {
   "cell_type": "code",
   "execution_count": 20,
   "id": "f7a832f8-6dff-4a23-a912-120eead09f27",
   "metadata": {},
   "outputs": [],
   "source": [
    "import os"
   ]
  },
  {
   "cell_type": "code",
   "execution_count": 21,
   "id": "9383aad2-88bb-409f-9d25-24a59e1363e5",
   "metadata": {},
   "outputs": [],
   "source": [
    "import csv"
   ]
  },
  {
   "cell_type": "code",
   "execution_count": 22,
   "id": "4323ca23-10c9-4a06-9f58-7b13f263d7a5",
   "metadata": {},
   "outputs": [],
   "source": [
    "from pathlib import Path"
   ]
  },
  {
   "cell_type": "code",
   "execution_count": 27,
   "id": "fdc95487-9723-4603-a4ef-1aa43d13ee87",
   "metadata": {},
   "outputs": [],
   "source": [
    "#setting the filepath\n",
    "budget_path = r\"C:\\Users\\Aarthi Manoharan\\Arun\\python-homework\\python-homework\\PyBank\\budget_data.csv\""
   ]
  },
  {
   "cell_type": "code",
   "execution_count": 28,
   "id": "7ef8e329-0171-43a7-aae5-29822a91c8cd",
   "metadata": {},
   "outputs": [
    {
     "name": "stdout",
     "output_type": "stream",
     "text": [
      "Current Working Directory: C:\\Users\\Aarthi Manoharan\\Arun\\python-homework\\python-homework\\PyBank\n"
     ]
    }
   ],
   "source": [
    "#check the working directory\n",
    "print(f\"Current Working Directory: {Path.cwd()}\")"
   ]
  },
  {
   "cell_type": "code",
   "execution_count": 29,
   "id": "61fc42f2-984e-4339-81fd-690845aa00b1",
   "metadata": {},
   "outputs": [],
   "source": [
    "with open(budget_path, 'r') as csvfile:\n",
    "    csvreader = csv.reader(csvfile, delimiter=',')\n",
    "    header = next(csvreader)\n",
    "    #creating empty lists to add CSV values\n",
    "    month_count = []\n",
    "    profit = []\n",
    "    change_in_profit = []\n",
    "    for row in csvreader:\n",
    "        month_count.append(row[0])\n",
    "        profit.append(int(row[1]))\n",
    "    for i in range(len(profit)-1):\n",
    "        change_in_profit.append(profit[i+1] - profit[i])\n",
    "#calculation of the max and min from the list\n",
    "increase = max(change_in_profit)\n",
    "decrease = min(change_in_profit)\n",
    "month_increase = change_in_profit.index(max(change_in_profit))+1\n",
    "month_decrease = change_in_profit.index(min(change_in_profit))+1"
   ]
  },
  {
   "cell_type": "code",
   "execution_count": 30,
   "id": "7fc991d1-ecca-4076-9c4b-5c3162f53436",
   "metadata": {},
   "outputs": [
    {
     "name": "stdout",
     "output_type": "stream",
     "text": [
      "Financial Analysis\n",
      "------------------------\n",
      "Total Months:86\n",
      "Total: $38382578\n",
      "Average Change: -2315.12\n",
      "Greatest Increase in Profits: 12-Feb ($1926159)\n",
      "Greatest Decrease in Profits: 13-Sep ($-2196167)\n"
     ]
    }
   ],
   "source": [
    "#Printing Final output\n",
    "print(\"Financial Analysis\")\n",
    "print(\"------------------------\")\n",
    "print(f\"Total Months:{len(month_count)}\")\n",
    "print(f\"Total: ${sum(profit)}\")\n",
    "print(f\"Average Change: {round(sum(change_in_profit)/len(change_in_profit),2)}\")\n",
    "print(f\"Greatest Increase in Profits: {month_count[month_increase]} (${(str(increase))})\")\n",
    "print(f\"Greatest Decrease in Profits: {month_count[month_decrease]} (${(str(decrease))})\")"
   ]
  },
  {
   "cell_type": "code",
   "execution_count": null,
   "id": "a57f137f-5776-4c4f-9f8b-ece8db28e29f",
   "metadata": {},
   "outputs": [],
   "source": []
  }
 ],
 "metadata": {
  "kernelspec": {
   "display_name": "Python 3 (ipykernel)",
   "language": "python",
   "name": "python3"
  },
  "language_info": {
   "codemirror_mode": {
    "name": "ipython",
    "version": 3
   },
   "file_extension": ".py",
   "mimetype": "text/x-python",
   "name": "python",
   "nbconvert_exporter": "python",
   "pygments_lexer": "ipython3",
   "version": "3.9.13"
  }
 },
 "nbformat": 4,
 "nbformat_minor": 5
}
